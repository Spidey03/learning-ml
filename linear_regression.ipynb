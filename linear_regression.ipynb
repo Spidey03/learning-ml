{
 "cells": [
  {
   "cell_type": "code",
   "execution_count": null,
   "metadata": {},
   "outputs": [],
   "source": [
    "import numpy as np\n",
    "import pandas as pd\n",
    "import matplotlib.pyplot as plt"
   ]
  },
  {
   "cell_type": "code",
   "execution_count": null,
   "metadata": {},
   "outputs": [],
   "source": [
    "SEED = 3\n",
    "no_of_samples = 100"
   ]
  },
  {
   "cell_type": "code",
   "execution_count": null,
   "metadata": {},
   "outputs": [],
   "source": [
    "np.random.seed(seed=SEED)"
   ]
  },
  {
   "cell_type": "markdown",
   "metadata": {},
   "source": [
    "$Y = 3.5*X + random\\_noise$"
   ]
  },
  {
   "cell_type": "markdown",
   "metadata": {},
   "source": [
    "### Generate data"
   ]
  },
  {
   "cell_type": "code",
   "execution_count": null,
   "metadata": {},
   "outputs": [],
   "source": [
    "def generate_data(num_samples: int):\n",
    "    X = np.array(range(num_samples))\n",
    "    random_noise = np.random.uniform(-10, 20, size=no_of_samples)\n",
    "    Y = 3.5 * X + random_noise\n",
    "    return X, Y"
   ]
  },
  {
   "cell_type": "code",
   "execution_count": null,
   "metadata": {},
   "outputs": [],
   "source": [
    "X, Y = generate_data(num_samples=no_of_samples)\n",
    "data = np.vstack([X, Y]).T"
   ]
  },
  {
   "cell_type": "code",
   "execution_count": null,
   "metadata": {},
   "outputs": [],
   "source": [
    "df = pd.DataFrame(data, columns=['X', 'Y'])\n",
    "X = df[['X']].values\n",
    "Y = df[['Y']].values\n",
    "df.head(10)"
   ]
  },
  {
   "cell_type": "markdown",
   "metadata": {},
   "source": [
    "### Scatter Plot"
   ]
  },
  {
   "cell_type": "code",
   "execution_count": null,
   "metadata": {},
   "outputs": [],
   "source": [
    "plt.title('Collected Data')\n",
    "plt.xlabel('X')\n",
    "plt.ylabel('Y')\n",
    "plt.xticks(ticks=list(range(0, no_of_samples+1, 5)))\n",
    "plt.scatter(x=df['X'], y=df['Y'])\n",
    "plt.show()"
   ]
  },
  {
   "cell_type": "markdown",
   "metadata": {},
   "source": [
    "### Split Data"
   ]
  },
  {
   "cell_type": "markdown",
   "metadata": {},
   "source": [
    "Split data into\n",
    "- Train data\n",
    "- Validation data\n",
    "- Test data"
   ]
  },
  {
   "cell_type": "code",
   "execution_count": null,
   "metadata": {},
   "outputs": [],
   "source": [
    "train_size = 0.6\n",
    "validataion_size = 0.2\n",
    "test_size = 0.2"
   ]
  },
  {
   "cell_type": "code",
   "execution_count": null,
   "metadata": {},
   "outputs": [],
   "source": [
    "indices = list(range(no_of_samples))\n",
    "np.random.shuffle(indices)\n",
    "X = X[indices]\n",
    "Y = Y[indices]"
   ]
  },
  {
   "cell_type": "code",
   "execution_count": null,
   "metadata": {},
   "outputs": [],
   "source": [
    "# split indices\n",
    "train_end = int(train_size * no_of_samples)\n",
    "val_end = int((train_size + validataion_size) * no_of_samples)"
   ]
  },
  {
   "cell_type": "code",
   "execution_count": null,
   "metadata": {},
   "outputs": [],
   "source": [
    "train_X = X[:train_end]\n",
    "val_X = X[train_end:val_end]\n",
    "test_X = X[val_end:]\n",
    "\n",
    "train_Y = X[:train_end]\n",
    "val_Y = X[train_end:val_end]\n",
    "test_Y = X[val_end:]\n",
    "\n",
    "print(\"Shape of \")\n",
    "print(f'X train: {train_X.shape}, Y train: {train_Y.shape}')\n",
    "print(f'X val: {val_X.shape}, Y val: {val_Y.shape}')\n",
    "print(f'X test: {test_X.shape}, Y test: {test_Y.shape}')"
   ]
  },
  {
   "cell_type": "markdown",
   "metadata": {},
   "source": [
    "### Standardize Data\n",
    "### $z = \\frac{x_i - \\mu}{\\sigma}$"
   ]
  },
  {
   "cell_type": "code",
   "execution_count": null,
   "metadata": {},
   "outputs": [],
   "source": [
    "def stardize_data(data, mean, std_deviation):\n",
    "    return (data - mean)/std_deviation"
   ]
  },
  {
   "cell_type": "code",
   "execution_count": null,
   "metadata": {},
   "outputs": [],
   "source": [
    "mean_X = np.mean(train_X)\n",
    "std_X = np.std(train_X)\n",
    "mean_Y = np.mean(train_Y)\n",
    "std_Y = np.std(train_Y)"
   ]
  },
  {
   "cell_type": "code",
   "execution_count": null,
   "metadata": {},
   "outputs": [],
   "source": [
    "train_X = stardize_data(train_X, mean=mean_X, std_deviation=std_X)\n",
    "val_X = stardize_data(val_X, mean=mean_X, std_deviation=std_X)\n",
    "test_X = stardize_data(test_X, mean=mean_X, std_deviation=std_X)\n",
    "\n",
    "train_Y = stardize_data(train_Y, mean=mean_Y, std_deviation=std_Y)\n",
    "val_Y = stardize_data(val_Y, mean=mean_Y, std_deviation=std_Y)\n",
    "test_Y = stardize_data(test_Y, mean=mean_Y, std_deviation=std_Y)"
   ]
  },
  {
   "cell_type": "code",
   "execution_count": null,
   "metadata": {},
   "outputs": [],
   "source": [
    "print (f\"mean: {np.mean(test_X, axis=0)[0]:.1f}, std: {np.std(test_X, axis=0)[0]:.1f}\")\n",
    "print (f\"mean: {np.mean(test_Y, axis=0)[0]:.1f}, std: {np.std(test_Y, axis=0)[0]:.1f}\")"
   ]
  },
  {
   "cell_type": "code",
   "execution_count": null,
   "metadata": {},
   "outputs": [],
   "source": [
    "input_dim = train_X.shape[1]\n",
    "output_dim = train_Y.shape[1]"
   ]
  },
  {
   "cell_type": "code",
   "execution_count": null,
   "metadata": {},
   "outputs": [],
   "source": [
    "W = 0.01 * np.random.randn(input_dim, output_dim)\n",
    "b = np.zeros((1, 1))\n",
    "\n",
    "print (f\"W: {W.shape}\")\n",
    "print (f\"b: {b.shape}\")"
   ]
  },
  {
   "cell_type": "markdown",
   "metadata": {},
   "source": [
    "### Model"
   ]
  },
  {
   "cell_type": "code",
   "execution_count": null,
   "metadata": {},
   "outputs": [],
   "source": [
    "y_pred = np.dot(train_X, W) + b"
   ]
  },
  {
   "cell_type": "markdown",
   "metadata": {},
   "source": [
    "### MSE\n",
    "$J(\\theta) = MSE = \\frac{1}{m}\\sum_{i=1}^{m} ({h_{\\theta}(x)^i - y^i})^2$"
   ]
  },
  {
   "cell_type": "code",
   "execution_count": null,
   "metadata": {},
   "outputs": [],
   "source": [
    "m = len(train_Y)\n",
    "loss = 1/m * np.sum((train_Y - y_pred)**2)\n",
    "print(f\"Loss: {loss}\")"
   ]
  },
  {
   "cell_type": "markdown",
   "metadata": {},
   "source": [
    "### Gradients"
   ]
  },
  {
   "cell_type": "code",
   "execution_count": null,
   "metadata": {},
   "outputs": [],
   "source": [
    "m = len(train_Y)\n",
    "dw = -(2/m) * np.sum((train_Y - y_pred) * train_X)\n",
    "db = -(2/m) * np.sum(train_Y - y_pred)"
   ]
  },
  {
   "cell_type": "code",
   "execution_count": null,
   "metadata": {},
   "outputs": [],
   "source": [
    "learning_rate = 1e-1\n",
    "W += -learning_rate * dw\n",
    "b += -learning_rate * db"
   ]
  },
  {
   "cell_type": "code",
   "execution_count": null,
   "metadata": {},
   "outputs": [],
   "source": [
    "NUM_EPOCHS = 100\n",
    "W = 0.01 * np.random.randn(input_dim, output_dim)\n",
    "b = np.zeros((1, ))\n",
    "m = len(train_Y)\n",
    "# Training loop\n",
    "for epoch_num in range(NUM_EPOCHS):\n",
    "\n",
    "    # Forward pass [NX1] · [1X1] = [NX1]\n",
    "    y_pred = np.dot(train_X, W) + b\n",
    "\n",
    "    # Loss\n",
    "    loss = (1/len(train_Y)) * np.sum((train_Y - y_pred)**2)\n",
    "\n",
    "    # Show progress\n",
    "    if epoch_num%10 == 0:\n",
    "        print (f\"Epoch: {epoch_num}, loss: {loss:.3f}\")\n",
    "\n",
    "    # Backpropagation\n",
    "    dW = -(2/m) * np.sum((train_Y - y_pred) * train_X)\n",
    "    db = -(2/m) * np.sum((train_Y - y_pred) * 1)\n",
    "\n",
    "    # Update weights\n",
    "    W += -learning_rate * dW\n",
    "    b += -learning_rate * db"
   ]
  },
  {
   "cell_type": "code",
   "execution_count": null,
   "metadata": {},
   "outputs": [],
   "source": [
    "# Predictions\n",
    "pred_train = W*train_X + b\n",
    "pred_test = W*test_X + b"
   ]
  },
  {
   "cell_type": "code",
   "execution_count": null,
   "metadata": {},
   "outputs": [],
   "source": [
    "# Train and test MSE\n",
    "train_mse = np.mean((train_Y - pred_train) ** 2)\n",
    "test_mse = np.mean((test_Y - pred_test) ** 2)\n",
    "print (f\"train_MSE: {train_mse:.2f}, test_MSE: {test_mse:.2f}\")"
   ]
  },
  {
   "cell_type": "code",
   "execution_count": null,
   "metadata": {},
   "outputs": [],
   "source": [
    "# Figure size\n",
    "plt.figure(figsize=(15,5))\n",
    "\n",
    "# Plot train data\n",
    "plt.subplot(1, 2, 1)\n",
    "plt.title(\"Train\")\n",
    "plt.scatter(train_X, train_Y, label=\"y_train\")\n",
    "plt.plot(train_X, pred_train, color=\"red\", linewidth=1, linestyle=\"-\", label=\"model\")\n",
    "plt.legend(loc=\"lower right\")\n",
    "\n",
    "# Plot test data\n",
    "plt.subplot(1, 2, 2)\n",
    "plt.title(\"Test\")\n",
    "plt.scatter(test_X, test_Y, label='y_test')\n",
    "plt.plot(test_X, pred_test, color=\"red\", linewidth=1, linestyle=\"-\", label=\"model\")\n",
    "plt.legend(loc=\"lower right\")\n",
    "\n",
    "# Show plots\n",
    "plt.show()"
   ]
  }
 ],
 "metadata": {
  "interpreter": {
   "hash": "25d3e8cab3df6679576e97e6212eaea2dd02131b40b27e4506190ada6b04b773"
  },
  "kernelspec": {
   "display_name": "Python 3.8.10 ('venv': venv)",
   "language": "python",
   "name": "python3"
  },
  "language_info": {
   "codemirror_mode": {
    "name": "ipython",
    "version": 3
   },
   "file_extension": ".py",
   "mimetype": "text/x-python",
   "name": "python",
   "nbconvert_exporter": "python",
   "pygments_lexer": "ipython3",
   "version": "3.8.10"
  },
  "orig_nbformat": 4
 },
 "nbformat": 4,
 "nbformat_minor": 2
}
