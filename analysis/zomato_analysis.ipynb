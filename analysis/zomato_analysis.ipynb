{
 "cells": [
  {
   "cell_type": "code",
   "execution_count": 78,
   "metadata": {},
   "outputs": [],
   "source": [
    "import numpy as np\n",
    "import pandas as pd\n",
    "import matplotlib.pyplot as plt\n",
    "import seaborn as sns"
   ]
  },
  {
   "cell_type": "markdown",
   "metadata": {},
   "source": [
    "# Data"
   ]
  },
  {
   "cell_type": "markdown",
   "metadata": {},
   "source": [
    "## Read Data"
   ]
  },
  {
   "cell_type": "code",
   "execution_count": 79,
   "metadata": {},
   "outputs": [],
   "source": [
    "df = pd.read_csv(\"D:\\Projects\\Machinelearning\\learning-ml\\data\\zomato\\zomato.csv\")"
   ]
  },
  {
   "cell_type": "code",
   "execution_count": 80,
   "metadata": {},
   "outputs": [
    {
     "data": {
      "text/html": [
       "<div>\n",
       "<style scoped>\n",
       "    .dataframe tbody tr th:only-of-type {\n",
       "        vertical-align: middle;\n",
       "    }\n",
       "\n",
       "    .dataframe tbody tr th {\n",
       "        vertical-align: top;\n",
       "    }\n",
       "\n",
       "    .dataframe thead th {\n",
       "        text-align: right;\n",
       "    }\n",
       "</style>\n",
       "<table border=\"1\" class=\"dataframe\">\n",
       "  <thead>\n",
       "    <tr style=\"text-align: right;\">\n",
       "      <th></th>\n",
       "      <th>Name</th>\n",
       "      <th>URL</th>\n",
       "      <th>Cuisines</th>\n",
       "      <th>Area</th>\n",
       "      <th>Timing</th>\n",
       "      <th>Full_Address</th>\n",
       "      <th>PhoneNumber</th>\n",
       "      <th>IsHomeDelivery</th>\n",
       "      <th>isTakeaway</th>\n",
       "      <th>isIndoorSeating</th>\n",
       "      <th>isVegOnly</th>\n",
       "      <th>Dinner Ratings</th>\n",
       "      <th>Dinner Reviews</th>\n",
       "      <th>Delivery Ratings</th>\n",
       "      <th>Delivery Reviews</th>\n",
       "      <th>KnownFor</th>\n",
       "      <th>PopularDishes</th>\n",
       "      <th>PeopleKnownFor</th>\n",
       "      <th>AverageCost</th>\n",
       "    </tr>\n",
       "  </thead>\n",
       "  <tbody>\n",
       "    <tr>\n",
       "      <th>0</th>\n",
       "      <td>Jyoti Vihar</td>\n",
       "      <td>https://www.zomato.com/kolkata/jyoti-vihar-cam...</td>\n",
       "      <td>South Indian</td>\n",
       "      <td>Camac Street Area, Kolkata</td>\n",
       "      <td>Opens tomorrow at 10am</td>\n",
       "      <td>3A/1, Ho Chi Minh Sarani, Camac Street Area, K...</td>\n",
       "      <td>+919748084091</td>\n",
       "      <td>1</td>\n",
       "      <td>1</td>\n",
       "      <td>1</td>\n",
       "      <td>1</td>\n",
       "      <td>4.4</td>\n",
       "      <td>930</td>\n",
       "      <td>4.1</td>\n",
       "      <td>5498</td>\n",
       "      <td>South Indian Delicacies</td>\n",
       "      <td>Milk Upma, Jyoti Vihar, Vada Sambar, Filtered ...</td>\n",
       "      <td>South Indian Food, Good Crowd, Excellent Place...</td>\n",
       "      <td>300</td>\n",
       "    </tr>\n",
       "    <tr>\n",
       "      <th>1</th>\n",
       "      <td>WOW! Momo</td>\n",
       "      <td>https://www.zomato.com/kolkata/wow-momo-park-s...</td>\n",
       "      <td>Momos, Fast Food, Tibetan</td>\n",
       "      <td>Park Street Area, Kolkata</td>\n",
       "      <td>9am – 3am (Today)</td>\n",
       "      <td>57, Park Street, Beside Vodafone Store, Park S...</td>\n",
       "      <td>+917604053802</td>\n",
       "      <td>1</td>\n",
       "      <td>1</td>\n",
       "      <td>1</td>\n",
       "      <td>0</td>\n",
       "      <td>4.0</td>\n",
       "      <td>469</td>\n",
       "      <td>4.1</td>\n",
       "      <td>11100</td>\n",
       "      <td>NaN</td>\n",
       "      <td>Tandoori Paneer Momos, Momo Platter, Chocolate...</td>\n",
       "      <td>Comfortable Seating Area, Staff Service, Famil...</td>\n",
       "      <td>350</td>\n",
       "    </tr>\n",
       "    <tr>\n",
       "      <th>2</th>\n",
       "      <td>Zam Zam</td>\n",
       "      <td>https://www.zomato.com/kolkata/zam-zam-park-ci...</td>\n",
       "      <td>Biryani, Rolls</td>\n",
       "      <td>Park Circus Area, Kolkata</td>\n",
       "      <td>Opens at 12noon</td>\n",
       "      <td>28/A, Syed Amir Ali Avenue, Park Circus Area, ...</td>\n",
       "      <td>+919748710818</td>\n",
       "      <td>1</td>\n",
       "      <td>1</td>\n",
       "      <td>1</td>\n",
       "      <td>0</td>\n",
       "      <td>4.4</td>\n",
       "      <td>1901</td>\n",
       "      <td>4.3</td>\n",
       "      <td>83100</td>\n",
       "      <td>NaN</td>\n",
       "      <td>Beef Malai, Beef Bhuna, Hariyali Chicken, Sahi...</td>\n",
       "      <td>Ordering Process, Gastronomical Experience, Co...</td>\n",
       "      <td>500</td>\n",
       "    </tr>\n",
       "    <tr>\n",
       "      <th>3</th>\n",
       "      <td>Daily Bhoj</td>\n",
       "      <td>https://www.zomato.com/kolkata/daily-bhoj-topsia</td>\n",
       "      <td>Bengali</td>\n",
       "      <td>Topsia, Kolkata</td>\n",
       "      <td>NaN</td>\n",
       "      <td>139/1G, Tljala Road, Topsia, Kolkata</td>\n",
       "      <td>+919330778809</td>\n",
       "      <td>1</td>\n",
       "      <td>0</td>\n",
       "      <td>0</td>\n",
       "      <td>0</td>\n",
       "      <td>-</td>\n",
       "      <td>0</td>\n",
       "      <td>3.9</td>\n",
       "      <td>2260</td>\n",
       "      <td>NaN</td>\n",
       "      <td>NaN</td>\n",
       "      <td>Great Portions, Worth the Money, Timely Servic...</td>\n",
       "      <td>150</td>\n",
       "    </tr>\n",
       "    <tr>\n",
       "      <th>4</th>\n",
       "      <td>Behnam</td>\n",
       "      <td>https://www.zomato.com/kolkata/behnam-topsia</td>\n",
       "      <td>Biryani, North Indian, Mughlai, Rolls, Kebab, ...</td>\n",
       "      <td>Topsia, Kolkata</td>\n",
       "      <td>Opens at 11am</td>\n",
       "      <td>139/1G, Tiljala Road, Near OYO Townhouse 229, ...</td>\n",
       "      <td>+919330778809</td>\n",
       "      <td>1</td>\n",
       "      <td>1</td>\n",
       "      <td>0</td>\n",
       "      <td>0</td>\n",
       "      <td>-</td>\n",
       "      <td>0</td>\n",
       "      <td>2.9</td>\n",
       "      <td>151</td>\n",
       "      <td>NaN</td>\n",
       "      <td>NaN</td>\n",
       "      <td>Worth the Money, Timely Service, Great Portion...</td>\n",
       "      <td>200</td>\n",
       "    </tr>\n",
       "  </tbody>\n",
       "</table>\n",
       "</div>"
      ],
      "text/plain": [
       "          Name                                                URL  \\\n",
       "0  Jyoti Vihar  https://www.zomato.com/kolkata/jyoti-vihar-cam...   \n",
       "1    WOW! Momo  https://www.zomato.com/kolkata/wow-momo-park-s...   \n",
       "2      Zam Zam  https://www.zomato.com/kolkata/zam-zam-park-ci...   \n",
       "3   Daily Bhoj   https://www.zomato.com/kolkata/daily-bhoj-topsia   \n",
       "4       Behnam       https://www.zomato.com/kolkata/behnam-topsia   \n",
       "\n",
       "                                            Cuisines  \\\n",
       "0                                       South Indian   \n",
       "1                          Momos, Fast Food, Tibetan   \n",
       "2                                     Biryani, Rolls   \n",
       "3                                            Bengali   \n",
       "4  Biryani, North Indian, Mughlai, Rolls, Kebab, ...   \n",
       "\n",
       "                         Area                  Timing  \\\n",
       "0  Camac Street Area, Kolkata  Opens tomorrow at 10am   \n",
       "1   Park Street Area, Kolkata       9am – 3am (Today)   \n",
       "2   Park Circus Area, Kolkata         Opens at 12noon   \n",
       "3             Topsia, Kolkata                     NaN   \n",
       "4             Topsia, Kolkata           Opens at 11am   \n",
       "\n",
       "                                        Full_Address    PhoneNumber  \\\n",
       "0  3A/1, Ho Chi Minh Sarani, Camac Street Area, K...  +919748084091   \n",
       "1  57, Park Street, Beside Vodafone Store, Park S...  +917604053802   \n",
       "2  28/A, Syed Amir Ali Avenue, Park Circus Area, ...  +919748710818   \n",
       "3               139/1G, Tljala Road, Topsia, Kolkata  +919330778809   \n",
       "4  139/1G, Tiljala Road, Near OYO Townhouse 229, ...  +919330778809   \n",
       "\n",
       "   IsHomeDelivery  isTakeaway  isIndoorSeating  isVegOnly Dinner Ratings  \\\n",
       "0               1           1                1          1            4.4   \n",
       "1               1           1                1          0            4.0   \n",
       "2               1           1                1          0            4.4   \n",
       "3               1           0                0          0              -   \n",
       "4               1           1                0          0              -   \n",
       "\n",
       "   Dinner Reviews Delivery Ratings  Delivery Reviews                 KnownFor  \\\n",
       "0             930              4.1              5498  South Indian Delicacies   \n",
       "1             469              4.1             11100                      NaN   \n",
       "2            1901              4.3             83100                      NaN   \n",
       "3               0              3.9              2260                      NaN   \n",
       "4               0              2.9               151                      NaN   \n",
       "\n",
       "                                       PopularDishes  \\\n",
       "0  Milk Upma, Jyoti Vihar, Vada Sambar, Filtered ...   \n",
       "1  Tandoori Paneer Momos, Momo Platter, Chocolate...   \n",
       "2  Beef Malai, Beef Bhuna, Hariyali Chicken, Sahi...   \n",
       "3                                                NaN   \n",
       "4                                                NaN   \n",
       "\n",
       "                                      PeopleKnownFor  AverageCost  \n",
       "0  South Indian Food, Good Crowd, Excellent Place...          300  \n",
       "1  Comfortable Seating Area, Staff Service, Famil...          350  \n",
       "2  Ordering Process, Gastronomical Experience, Co...          500  \n",
       "3  Great Portions, Worth the Money, Timely Servic...          150  \n",
       "4  Worth the Money, Timely Service, Great Portion...          200  "
      ]
     },
     "execution_count": 80,
     "metadata": {},
     "output_type": "execute_result"
    }
   ],
   "source": [
    "df.head()"
   ]
  },
  {
   "cell_type": "code",
   "execution_count": 81,
   "metadata": {},
   "outputs": [
    {
     "data": {
      "text/plain": [
       "Index(['Name', 'URL', 'Cuisines', 'Area', 'Timing', 'Full_Address',\n",
       "       'PhoneNumber', 'IsHomeDelivery', 'isTakeaway', 'isIndoorSeating',\n",
       "       'isVegOnly', 'Dinner Ratings', 'Dinner Reviews', 'Delivery Ratings',\n",
       "       'Delivery Reviews', 'KnownFor', 'PopularDishes', 'PeopleKnownFor',\n",
       "       'AverageCost'],\n",
       "      dtype='object')"
      ]
     },
     "execution_count": 81,
     "metadata": {},
     "output_type": "execute_result"
    }
   ],
   "source": [
    "df.columns"
   ]
  },
  {
   "cell_type": "markdown",
   "metadata": {},
   "source": [
    "## Understand Data"
   ]
  },
  {
   "cell_type": "code",
   "execution_count": 82,
   "metadata": {},
   "outputs": [
    {
     "data": {
      "text/plain": [
       "Name                   0\n",
       "URL                    0\n",
       "Cuisines               0\n",
       "Area                   0\n",
       "Timing              1642\n",
       "Full_Address           0\n",
       "PhoneNumber            0\n",
       "IsHomeDelivery         0\n",
       "isTakeaway             0\n",
       "isIndoorSeating        0\n",
       "isVegOnly              0\n",
       "Dinner Ratings         0\n",
       "Dinner Reviews         0\n",
       "Delivery Ratings       0\n",
       "Delivery Reviews       0\n",
       "KnownFor            4724\n",
       "PopularDishes       3919\n",
       "PeopleKnownFor      2884\n",
       "AverageCost            0\n",
       "dtype: int64"
      ]
     },
     "execution_count": 82,
     "metadata": {},
     "output_type": "execute_result"
    }
   ],
   "source": [
    "df.isna().sum()"
   ]
  },
  {
   "cell_type": "code",
   "execution_count": 83,
   "metadata": {},
   "outputs": [],
   "source": [
    "df = df.drop([\"Timing\", \"URL\", \"PhoneNumber\", \"Full_Address\", \"KnownFor\"], axis=1)"
   ]
  },
  {
   "cell_type": "code",
   "execution_count": 84,
   "metadata": {},
   "outputs": [
    {
     "data": {
      "text/html": [
       "<div>\n",
       "<style scoped>\n",
       "    .dataframe tbody tr th:only-of-type {\n",
       "        vertical-align: middle;\n",
       "    }\n",
       "\n",
       "    .dataframe tbody tr th {\n",
       "        vertical-align: top;\n",
       "    }\n",
       "\n",
       "    .dataframe thead th {\n",
       "        text-align: right;\n",
       "    }\n",
       "</style>\n",
       "<table border=\"1\" class=\"dataframe\">\n",
       "  <thead>\n",
       "    <tr style=\"text-align: right;\">\n",
       "      <th></th>\n",
       "      <th>Name</th>\n",
       "      <th>Cuisines</th>\n",
       "      <th>Area</th>\n",
       "      <th>IsHomeDelivery</th>\n",
       "      <th>isTakeaway</th>\n",
       "      <th>isIndoorSeating</th>\n",
       "      <th>isVegOnly</th>\n",
       "      <th>Dinner Ratings</th>\n",
       "      <th>Dinner Reviews</th>\n",
       "      <th>Delivery Ratings</th>\n",
       "      <th>Delivery Reviews</th>\n",
       "      <th>PopularDishes</th>\n",
       "      <th>PeopleKnownFor</th>\n",
       "      <th>AverageCost</th>\n",
       "    </tr>\n",
       "  </thead>\n",
       "  <tbody>\n",
       "    <tr>\n",
       "      <th>0</th>\n",
       "      <td>Jyoti Vihar</td>\n",
       "      <td>South Indian</td>\n",
       "      <td>Camac Street Area, Kolkata</td>\n",
       "      <td>1</td>\n",
       "      <td>1</td>\n",
       "      <td>1</td>\n",
       "      <td>1</td>\n",
       "      <td>4.4</td>\n",
       "      <td>930</td>\n",
       "      <td>4.1</td>\n",
       "      <td>5498</td>\n",
       "      <td>Milk Upma, Jyoti Vihar, Vada Sambar, Filtered ...</td>\n",
       "      <td>South Indian Food, Good Crowd, Excellent Place...</td>\n",
       "      <td>300</td>\n",
       "    </tr>\n",
       "    <tr>\n",
       "      <th>1</th>\n",
       "      <td>WOW! Momo</td>\n",
       "      <td>Momos, Fast Food, Tibetan</td>\n",
       "      <td>Park Street Area, Kolkata</td>\n",
       "      <td>1</td>\n",
       "      <td>1</td>\n",
       "      <td>1</td>\n",
       "      <td>0</td>\n",
       "      <td>4.0</td>\n",
       "      <td>469</td>\n",
       "      <td>4.1</td>\n",
       "      <td>11100</td>\n",
       "      <td>Tandoori Paneer Momos, Momo Platter, Chocolate...</td>\n",
       "      <td>Comfortable Seating Area, Staff Service, Famil...</td>\n",
       "      <td>350</td>\n",
       "    </tr>\n",
       "    <tr>\n",
       "      <th>2</th>\n",
       "      <td>Zam Zam</td>\n",
       "      <td>Biryani, Rolls</td>\n",
       "      <td>Park Circus Area, Kolkata</td>\n",
       "      <td>1</td>\n",
       "      <td>1</td>\n",
       "      <td>1</td>\n",
       "      <td>0</td>\n",
       "      <td>4.4</td>\n",
       "      <td>1901</td>\n",
       "      <td>4.3</td>\n",
       "      <td>83100</td>\n",
       "      <td>Beef Malai, Beef Bhuna, Hariyali Chicken, Sahi...</td>\n",
       "      <td>Ordering Process, Gastronomical Experience, Co...</td>\n",
       "      <td>500</td>\n",
       "    </tr>\n",
       "    <tr>\n",
       "      <th>3</th>\n",
       "      <td>Daily Bhoj</td>\n",
       "      <td>Bengali</td>\n",
       "      <td>Topsia, Kolkata</td>\n",
       "      <td>1</td>\n",
       "      <td>0</td>\n",
       "      <td>0</td>\n",
       "      <td>0</td>\n",
       "      <td>-</td>\n",
       "      <td>0</td>\n",
       "      <td>3.9</td>\n",
       "      <td>2260</td>\n",
       "      <td>NaN</td>\n",
       "      <td>Great Portions, Worth the Money, Timely Servic...</td>\n",
       "      <td>150</td>\n",
       "    </tr>\n",
       "    <tr>\n",
       "      <th>4</th>\n",
       "      <td>Behnam</td>\n",
       "      <td>Biryani, North Indian, Mughlai, Rolls, Kebab, ...</td>\n",
       "      <td>Topsia, Kolkata</td>\n",
       "      <td>1</td>\n",
       "      <td>1</td>\n",
       "      <td>0</td>\n",
       "      <td>0</td>\n",
       "      <td>-</td>\n",
       "      <td>0</td>\n",
       "      <td>2.9</td>\n",
       "      <td>151</td>\n",
       "      <td>NaN</td>\n",
       "      <td>Worth the Money, Timely Service, Great Portion...</td>\n",
       "      <td>200</td>\n",
       "    </tr>\n",
       "  </tbody>\n",
       "</table>\n",
       "</div>"
      ],
      "text/plain": [
       "          Name                                           Cuisines  \\\n",
       "0  Jyoti Vihar                                       South Indian   \n",
       "1    WOW! Momo                          Momos, Fast Food, Tibetan   \n",
       "2      Zam Zam                                     Biryani, Rolls   \n",
       "3   Daily Bhoj                                            Bengali   \n",
       "4       Behnam  Biryani, North Indian, Mughlai, Rolls, Kebab, ...   \n",
       "\n",
       "                         Area  IsHomeDelivery  isTakeaway  isIndoorSeating  \\\n",
       "0  Camac Street Area, Kolkata               1           1                1   \n",
       "1   Park Street Area, Kolkata               1           1                1   \n",
       "2   Park Circus Area, Kolkata               1           1                1   \n",
       "3             Topsia, Kolkata               1           0                0   \n",
       "4             Topsia, Kolkata               1           1                0   \n",
       "\n",
       "   isVegOnly Dinner Ratings  Dinner Reviews Delivery Ratings  \\\n",
       "0          1            4.4             930              4.1   \n",
       "1          0            4.0             469              4.1   \n",
       "2          0            4.4            1901              4.3   \n",
       "3          0              -               0              3.9   \n",
       "4          0              -               0              2.9   \n",
       "\n",
       "   Delivery Reviews                                      PopularDishes  \\\n",
       "0              5498  Milk Upma, Jyoti Vihar, Vada Sambar, Filtered ...   \n",
       "1             11100  Tandoori Paneer Momos, Momo Platter, Chocolate...   \n",
       "2             83100  Beef Malai, Beef Bhuna, Hariyali Chicken, Sahi...   \n",
       "3              2260                                                NaN   \n",
       "4               151                                                NaN   \n",
       "\n",
       "                                      PeopleKnownFor  AverageCost  \n",
       "0  South Indian Food, Good Crowd, Excellent Place...          300  \n",
       "1  Comfortable Seating Area, Staff Service, Famil...          350  \n",
       "2  Ordering Process, Gastronomical Experience, Co...          500  \n",
       "3  Great Portions, Worth the Money, Timely Servic...          150  \n",
       "4  Worth the Money, Timely Service, Great Portion...          200  "
      ]
     },
     "execution_count": 84,
     "metadata": {},
     "output_type": "execute_result"
    }
   ],
   "source": [
    "df.head()"
   ]
  },
  {
   "cell_type": "code",
   "execution_count": 85,
   "metadata": {},
   "outputs": [
    {
     "data": {
      "text/plain": [
       "Name                object\n",
       "Cuisines            object\n",
       "Area                object\n",
       "IsHomeDelivery       int64\n",
       "isTakeaway           int64\n",
       "isIndoorSeating      int64\n",
       "isVegOnly            int64\n",
       "Dinner Ratings      object\n",
       "Dinner Reviews       int64\n",
       "Delivery Ratings    object\n",
       "Delivery Reviews     int64\n",
       "PopularDishes       object\n",
       "PeopleKnownFor      object\n",
       "AverageCost          int64\n",
       "dtype: object"
      ]
     },
     "execution_count": 85,
     "metadata": {},
     "output_type": "execute_result"
    }
   ],
   "source": [
    "df.dtypes"
   ]
  },
  {
   "cell_type": "code",
   "execution_count": 86,
   "metadata": {},
   "outputs": [
    {
     "name": "stdout",
     "output_type": "stream",
     "text": [
      "Missing *Dinner Ratings* values :3026\n",
      "Missing *Delivery Ratings* values :1120\n"
     ]
    }
   ],
   "source": [
    "print(f\"Missing *Dinner Ratings* values :{len(df[df['Dinner Ratings'] == '-'])}\")\n",
    "print(f\"Missing *Delivery Ratings* values :{len(df[df['Delivery Ratings'] == '-'])}\")"
   ]
  },
  {
   "cell_type": "code",
   "execution_count": 87,
   "metadata": {},
   "outputs": [],
   "source": [
    "df['Dinner Ratings'].replace('-', '0', inplace=True)\n",
    "df['Delivery Ratings'].replace('-', '0', inplace=True)"
   ]
  },
  {
   "cell_type": "code",
   "execution_count": 88,
   "metadata": {},
   "outputs": [
    {
     "data": {
      "text/plain": [
       "Name                 object\n",
       "Cuisines             object\n",
       "Area                 object\n",
       "IsHomeDelivery        int64\n",
       "isTakeaway            int64\n",
       "isIndoorSeating       int64\n",
       "isVegOnly             int64\n",
       "Dinner Ratings      float64\n",
       "Dinner Reviews        int64\n",
       "Delivery Ratings    float64\n",
       "Delivery Reviews      int64\n",
       "PopularDishes        object\n",
       "PeopleKnownFor       object\n",
       "AverageCost           int64\n",
       "dtype: object"
      ]
     },
     "execution_count": 88,
     "metadata": {},
     "output_type": "execute_result"
    }
   ],
   "source": [
    "df = df.astype({\n",
    "    'Dinner Ratings': float,\n",
    "    'Delivery Ratings': float\n",
    "})\n",
    "df.dtypes"
   ]
  },
  {
   "cell_type": "code",
   "execution_count": 91,
   "metadata": {},
   "outputs": [],
   "source": [
    "df.rename(columns={\n",
    "    \"IsHomeDelivery\": \"Is Home Delivery\",\n",
    "    \"isTakeaway\": \"Is Takeaway\",\n",
    "    \"isIndoorSeating\": \"Is Indoor Seating\",\n",
    "    \"isVegOnly\": \"Is Veg Only\",\n",
    "    \"PopularDishes\": \"Popular Dishes\",\n",
    "    \"PeopleKnownFor\": \"People Known For\",\n",
    "    \"AverageCost\": \"Average Cost\"\n",
    "}, inplace=True)"
   ]
  },
  {
   "cell_type": "code",
   "execution_count": 92,
   "metadata": {},
   "outputs": [
    {
     "data": {
      "text/html": [
       "<div>\n",
       "<style scoped>\n",
       "    .dataframe tbody tr th:only-of-type {\n",
       "        vertical-align: middle;\n",
       "    }\n",
       "\n",
       "    .dataframe tbody tr th {\n",
       "        vertical-align: top;\n",
       "    }\n",
       "\n",
       "    .dataframe thead th {\n",
       "        text-align: right;\n",
       "    }\n",
       "</style>\n",
       "<table border=\"1\" class=\"dataframe\">\n",
       "  <thead>\n",
       "    <tr style=\"text-align: right;\">\n",
       "      <th></th>\n",
       "      <th>Name</th>\n",
       "      <th>Cuisines</th>\n",
       "      <th>Area</th>\n",
       "      <th>Is Home Delivery</th>\n",
       "      <th>Is Takeaway</th>\n",
       "      <th>Is Indoor Seating</th>\n",
       "      <th>Is Veg Only</th>\n",
       "      <th>Dinner Ratings</th>\n",
       "      <th>Dinner Reviews</th>\n",
       "      <th>Delivery Ratings</th>\n",
       "      <th>Delivery Reviews</th>\n",
       "      <th>Popular Dishes</th>\n",
       "      <th>People Known For</th>\n",
       "      <th>Average Cost</th>\n",
       "    </tr>\n",
       "  </thead>\n",
       "  <tbody>\n",
       "    <tr>\n",
       "      <th>0</th>\n",
       "      <td>Jyoti Vihar</td>\n",
       "      <td>South Indian</td>\n",
       "      <td>Camac Street Area, Kolkata</td>\n",
       "      <td>1</td>\n",
       "      <td>1</td>\n",
       "      <td>1</td>\n",
       "      <td>1</td>\n",
       "      <td>4.4</td>\n",
       "      <td>930</td>\n",
       "      <td>4.1</td>\n",
       "      <td>5498</td>\n",
       "      <td>Milk Upma, Jyoti Vihar, Vada Sambar, Filtered ...</td>\n",
       "      <td>South Indian Food, Good Crowd, Excellent Place...</td>\n",
       "      <td>300</td>\n",
       "    </tr>\n",
       "    <tr>\n",
       "      <th>1</th>\n",
       "      <td>WOW! Momo</td>\n",
       "      <td>Momos, Fast Food, Tibetan</td>\n",
       "      <td>Park Street Area, Kolkata</td>\n",
       "      <td>1</td>\n",
       "      <td>1</td>\n",
       "      <td>1</td>\n",
       "      <td>0</td>\n",
       "      <td>4.0</td>\n",
       "      <td>469</td>\n",
       "      <td>4.1</td>\n",
       "      <td>11100</td>\n",
       "      <td>Tandoori Paneer Momos, Momo Platter, Chocolate...</td>\n",
       "      <td>Comfortable Seating Area, Staff Service, Famil...</td>\n",
       "      <td>350</td>\n",
       "    </tr>\n",
       "    <tr>\n",
       "      <th>2</th>\n",
       "      <td>Zam Zam</td>\n",
       "      <td>Biryani, Rolls</td>\n",
       "      <td>Park Circus Area, Kolkata</td>\n",
       "      <td>1</td>\n",
       "      <td>1</td>\n",
       "      <td>1</td>\n",
       "      <td>0</td>\n",
       "      <td>4.4</td>\n",
       "      <td>1901</td>\n",
       "      <td>4.3</td>\n",
       "      <td>83100</td>\n",
       "      <td>Beef Malai, Beef Bhuna, Hariyali Chicken, Sahi...</td>\n",
       "      <td>Ordering Process, Gastronomical Experience, Co...</td>\n",
       "      <td>500</td>\n",
       "    </tr>\n",
       "    <tr>\n",
       "      <th>3</th>\n",
       "      <td>Daily Bhoj</td>\n",
       "      <td>Bengali</td>\n",
       "      <td>Topsia, Kolkata</td>\n",
       "      <td>1</td>\n",
       "      <td>0</td>\n",
       "      <td>0</td>\n",
       "      <td>0</td>\n",
       "      <td>0.0</td>\n",
       "      <td>0</td>\n",
       "      <td>3.9</td>\n",
       "      <td>2260</td>\n",
       "      <td>NaN</td>\n",
       "      <td>Great Portions, Worth the Money, Timely Servic...</td>\n",
       "      <td>150</td>\n",
       "    </tr>\n",
       "    <tr>\n",
       "      <th>4</th>\n",
       "      <td>Behnam</td>\n",
       "      <td>Biryani, North Indian, Mughlai, Rolls, Kebab, ...</td>\n",
       "      <td>Topsia, Kolkata</td>\n",
       "      <td>1</td>\n",
       "      <td>1</td>\n",
       "      <td>0</td>\n",
       "      <td>0</td>\n",
       "      <td>0.0</td>\n",
       "      <td>0</td>\n",
       "      <td>2.9</td>\n",
       "      <td>151</td>\n",
       "      <td>NaN</td>\n",
       "      <td>Worth the Money, Timely Service, Great Portion...</td>\n",
       "      <td>200</td>\n",
       "    </tr>\n",
       "  </tbody>\n",
       "</table>\n",
       "</div>"
      ],
      "text/plain": [
       "          Name                                           Cuisines  \\\n",
       "0  Jyoti Vihar                                       South Indian   \n",
       "1    WOW! Momo                          Momos, Fast Food, Tibetan   \n",
       "2      Zam Zam                                     Biryani, Rolls   \n",
       "3   Daily Bhoj                                            Bengali   \n",
       "4       Behnam  Biryani, North Indian, Mughlai, Rolls, Kebab, ...   \n",
       "\n",
       "                         Area  Is Home Delivery  Is Takeaway  \\\n",
       "0  Camac Street Area, Kolkata                 1            1   \n",
       "1   Park Street Area, Kolkata                 1            1   \n",
       "2   Park Circus Area, Kolkata                 1            1   \n",
       "3             Topsia, Kolkata                 1            0   \n",
       "4             Topsia, Kolkata                 1            1   \n",
       "\n",
       "   Is Indoor Seating  Is Veg Only  Dinner Ratings  Dinner Reviews  \\\n",
       "0                  1            1             4.4             930   \n",
       "1                  1            0             4.0             469   \n",
       "2                  1            0             4.4            1901   \n",
       "3                  0            0             0.0               0   \n",
       "4                  0            0             0.0               0   \n",
       "\n",
       "   Delivery Ratings  Delivery Reviews  \\\n",
       "0               4.1              5498   \n",
       "1               4.1             11100   \n",
       "2               4.3             83100   \n",
       "3               3.9              2260   \n",
       "4               2.9               151   \n",
       "\n",
       "                                      Popular Dishes  \\\n",
       "0  Milk Upma, Jyoti Vihar, Vada Sambar, Filtered ...   \n",
       "1  Tandoori Paneer Momos, Momo Platter, Chocolate...   \n",
       "2  Beef Malai, Beef Bhuna, Hariyali Chicken, Sahi...   \n",
       "3                                                NaN   \n",
       "4                                                NaN   \n",
       "\n",
       "                                    People Known For  Average Cost  \n",
       "0  South Indian Food, Good Crowd, Excellent Place...           300  \n",
       "1  Comfortable Seating Area, Staff Service, Famil...           350  \n",
       "2  Ordering Process, Gastronomical Experience, Co...           500  \n",
       "3  Great Portions, Worth the Money, Timely Servic...           150  \n",
       "4  Worth the Money, Timely Service, Great Portion...           200  "
      ]
     },
     "execution_count": 92,
     "metadata": {},
     "output_type": "execute_result"
    }
   ],
   "source": [
    "df.head()"
   ]
  },
  {
   "cell_type": "markdown",
   "metadata": {},
   "source": [
    "# Visualization"
   ]
  },
  {
   "cell_type": "markdown",
   "metadata": {},
   "source": [
    "### Costly dish type"
   ]
  },
  {
   "cell_type": "code",
   "execution_count": 100,
   "metadata": {},
   "outputs": [
    {
     "data": {
      "text/plain": [
       "<seaborn.axisgrid.FacetGrid at 0x1f44108bb80>"
      ]
     },
     "execution_count": 100,
     "metadata": {},
     "output_type": "execute_result"
    },
    {
     "data": {
      "image/png": "[encoded data removed]",
      "text/plain": [
       "<Figure size 423.875x360 with 1 Axes>"
      ]
     },
     "metadata": {
      "needs_background": "light"
     },
     "output_type": "display_data"
    }
   ],
   "source": [
    "sns.catplot(\n",
    "    x=\"Is Takeaway\",\n",
    "    y=\"Average Cost\",\n",
    "    hue=\"Is Veg Only\",\n",
    "    data=df,\n",
    "    kind=\"bar\"\n",
    ")"
   ]
  },
  {
   "cell_type": "code",
   "execution_count": 101,
   "metadata": {},
   "outputs": [
    {
     "data": {
      "text/plain": [
       "<AxesSubplot:>"
      ]
     },
     "execution_count": 101,
     "metadata": {},
     "output_type": "execute_result"
    },
    {
     "data": {
      "image/png": "[encoded data removed]",
      "text/plain": [
       "<Figure size 432x288 with 2 Axes>"
      ]
     },
     "metadata": {
      "needs_background": "light"
     },
     "output_type": "display_data"
    }
   ],
   "source": [
    "sns.heatmap(data=df.corr())"
   ]
  },
  {
   "cell_type": "code",
   "execution_count": null,
   "metadata": {},
   "outputs": [],
   "source": []
  }
 ],
 "metadata": {
  "interpreter": {
   "hash": "86aef7c98e081a7c73526490b66f8c9c912d69cf8a1adeb27dc86c955f8102a2"
  },
  "kernelspec": {
   "display_name": "Python 3.10.2 ('venv': venv)",
   "language": "python",
   "name": "python3"
  },
  "language_info": {
   "codemirror_mode": {
    "name": "ipython",
    "version": 3
   },
   "file_extension": ".py",
   "mimetype": "text/x-python",
   "name": "python",
   "nbconvert_exporter": "python",
   "pygments_lexer": "ipython3",
   "version": "3.10.2"
  },
  "orig_nbformat": 4
 },
 "nbformat": 4,
 "nbformat_minor": 2
}
