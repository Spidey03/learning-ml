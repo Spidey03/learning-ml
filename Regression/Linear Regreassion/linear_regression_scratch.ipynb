{
 "cells": [
  {
   "cell_type": "markdown",
   "metadata": {},
   "source": [
    "Regression analysis is a form of __predictive modelling__ technique which investigates the relationship between a _dependent_ variable and _independent_ variable"
   ]
  },
  {
   "cell_type": "markdown",
   "metadata": {},
   "source": [
    "# Linear Regression\n",
    "\n",
    "- The data is modelled using a straight line called __trend line__\n",
    "- Used with _Continuous variables_\n",
    "- Accuracy can be measured by $R^2$, Adjusted $R^2$\n"
   ]
  },
  {
   "cell_type": "markdown",
   "metadata": {},
   "source": [
    "$\\Rightarrow$ The input variables are referred to as an __independent variables__ or __predictors__\n",
    "\n",
    "$\\Rightarrow$ The output variabales are referred as an __dependent variables__ or __target variables__\n",
    "\n",
    "### $ Y = mX + c $\n",
    "\n",
    "Y $\\rightarrow$ is dependent variable $\\\\$\n",
    "X $\\rightarrow$ is independent variable $\\\\$\n",
    "m $\\rightarrow$ is _regression coefficient_ or _slope of line_ $\\\\$\n",
    "c $\\rightarrow$ is _intercept_ of line"
   ]
  },
  {
   "cell_type": "markdown",
   "metadata": {},
   "source": [
    "__Error term__\n",
    "## $$ Y = mX + c + \\epsilon $$\n",
    "\n",
    "$\\epsilon$ $\\rightarrow$ Residual of actual and predicted values\n",
    "\n",
    "c $\\rightarrow$ denotes the values of Y when X is `zero`"
   ]
  },
  {
   "cell_type": "markdown",
   "metadata": {},
   "source": [
    "## Representation\n",
    "\n",
    "### $$ h(\\theta) = \\theta_0 + \\theta_1x_1+ \\cdots + \\theta_nx_n $$\n",
    "### $$ \\Rightarrow h(\\theta) = \\theta^Tx $$"
   ]
  },
  {
   "cell_type": "markdown",
   "metadata": {},
   "source": [
    "## Evaluation (MSE)\n",
    "Measures difference for the actual and predicted values.$\\\\$\n",
    "If MSE is lower, then the model is _best fit_\n",
    "\n",
    "$$ J(\\theta) = \\frac{1}{2m}\\sum_{i=1}^m{(h_\\theta(x^i) - y^i)^2} $$\n",
    "\n",
    "$$ m is no.of observations $$"
   ]
  },
  {
   "cell_type": "markdown",
   "metadata": {},
   "source": [
    "### Lasso Regression\n",
    "- Lasso Regression uses L1 regularization technique. $\\\\$\n",
    "- Sum of absolute values of the coefficients (L1 Norm)\n",
    "\n",
    "$$ J(\\theta) = \\frac{1}{2m}\\sum_{i=1}^m{(h_\\theta(x^i) - y^i)^2} + \\frac{\\lambda}{2m} \\sum_{j=1}^n\\theta_j$$\n"
   ]
  },
  {
   "cell_type": "markdown",
   "metadata": {},
   "source": [
    "### Ridge Regression\n",
    "- Ridge Regression uses L2 regularization technique\n",
    "- Sum of the squares of coefficients (L2 Norm)\n",
    "$$ J(\\theta) = \\frac{1}{2m}\\sum_{i=1}^m{(h_\\theta(x^i) - y^i)^2} + \\frac{\\lambda}{2m} \\sum_{j=1}^n\\theta_j^2$$"
   ]
  },
  {
   "cell_type": "markdown",
   "metadata": {},
   "source": [
    "If $\\lambda$ is too small $\\\\$\n",
    "$\\rightarrow$ $\\lambda$ \\approx 0 $\\Rightarrow$ J \\approx MSE $\\\\$\n",
    "$\\rightarrow$ No effect in regularization $\\\\$\n",
    "$\\rightarrow$ Leads to overfitting"
   ]
  },
  {
   "cell_type": "markdown",
   "metadata": {},
   "source": [
    "If $\\lambda$ is too large $\\\\$\n",
    "$\\rightarrow$ MSE + $\\lambda||\\theta||^2$ = $J(\\theta)$ $\\\\$\n",
    "$\\rightarrow$ $\\theta_0 \\approx 0, \\cdots ,\\theta_n \\approx 0$ $\\\\$\n",
    "$\\rightarrow$ Leads to underfitting $\\\\$\n",
    "$\\rightarrow$ $h_{\\theta}x \\approx \\theta_0$"
   ]
  },
  {
   "cell_type": "markdown",
   "metadata": {},
   "source": [
    "## Gradient Decent\n",
    "It is an optimazation algorithm used to minimize the function by iteratively movinng in direction of __steepest decent__.\n",
    "\n",
    "\n",
    "### $$\\theta_{optimal} = argminJ(\\theta)$$\n",
    "### $$\\theta^{t+1} = \\theta^t - \\alpha\\frac{dJ}{d\\theta}$$"
   ]
  }
 ],
 "metadata": {
  "interpreter": {
   "hash": "25d3e8cab3df6679576e97e6212eaea2dd02131b40b27e4506190ada6b04b773"
  },
  "kernelspec": {
   "display_name": "Python 3.8.10 ('venv': venv)",
   "language": "python",
   "name": "python3"
  },
  "language_info": {
   "codemirror_mode": {
    "name": "ipython",
    "version": 3
   },
   "file_extension": ".py",
   "mimetype": "text/x-python",
   "name": "python",
   "nbconvert_exporter": "python",
   "pygments_lexer": "ipython3",
   "version": "3.8.10"
  },
  "orig_nbformat": 4
 },
 "nbformat": 4,
 "nbformat_minor": 2
}
