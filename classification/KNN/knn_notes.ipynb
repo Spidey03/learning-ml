{
 "cells": [
  {
   "cell_type": "code",
   "execution_count": 8,
   "metadata": {},
   "outputs": [],
   "source": [
    "import random\n",
    "import numpy as np\n",
    "import matplotlib.pyplot as plt"
   ]
  },
  {
   "cell_type": "markdown",
   "metadata": {},
   "source": [
    "### K Nearest Neighbours"
   ]
  },
  {
   "cell_type": "code",
   "execution_count": 29,
   "metadata": {},
   "outputs": [
    {
     "data": {
      "text/plain": [
       "Text(10, 32, 'New input\\nk=3')"
      ]
     },
     "execution_count": 29,
     "metadata": {},
     "output_type": "execute_result"
    },
    {
     "data": {
      "image/png": "[encoded data removed]",
      "text/plain": [
       "<Figure size 432x288 with 1 Axes>"
      ]
     },
     "metadata": {
      "needs_background": "light"
     },
     "output_type": "display_data"
    }
   ],
   "source": [
    "plt.xlabel(r'independent variable $\\longrightarrow$', color='#1C2833')\n",
    "plt.ylabel(r'dependent variable $\\longrightarrow$', color='#1C2833')\n",
    "x1 = np.arange(10)\n",
    "y1 = random.sample(range(10, 30), 10)\n",
    "plt.scatter(x1, y1, label='Group 1')\n",
    "x2 = np.arange(10, 20)\n",
    "y2 = random.sample(range(40, 50), 10)\n",
    "plt.scatter(x2, y2, label='Group 2')\n",
    "plt.scatter(10, 30)\n",
    "plt.text(s=\"New input\\nk=3\", x=10, y=32)"
   ]
  },
  {
   "cell_type": "markdown",
   "metadata": {},
   "source": [
    "The model representation for **KNN** is the entire training dataset. KNN doesn't learning anything, stores the entire dataset."
   ]
  },
  {
   "cell_type": "markdown",
   "metadata": {},
   "source": [
    "Predictions are made for a new instance using entire dataset, searching the **K** most similar instances(neighbors)."
   ]
  },
  {
   "cell_type": "markdown",
   "metadata": {},
   "source": [
    "For regression this might be the **mean output** variable, in classification this might be the **mode (or most common) class** value."
   ]
  },
  {
   "cell_type": "markdown",
   "metadata": {},
   "source": [
    "We can get K nearest neighbors in the training data, distance measure is used."
   ]
  },
  {
   "cell_type": "markdown",
   "metadata": {},
   "source": [
    "### Euclidean Distance"
   ]
  },
  {
   "cell_type": "markdown",
   "metadata": {},
   "source": [
    "Euclidean distance is calculated as the square root of sum of differences between a new instance and training instance across all instances.\n",
    "\n",
    "$$\\Rightarrow \\sqrt{\\sum_{i=1}^{m}(x-x^i)^2}$$"
   ]
  },
  {
   "cell_type": "markdown",
   "metadata": {},
   "source": [
    "### Curse of Dimensionality\n",
    "KNN works well with a small number of input variables (p), but struggles when the number of inputs is very large.\n",
    "Each input variable can be considered a dimension of a p-dimensional input space"
   ]
  },
  {
   "cell_type": "code",
   "execution_count": 1,
   "metadata": {},
   "outputs": [],
   "source": []
  },
  {
   "cell_type": "code",
   "execution_count": 4,
   "metadata": {},
   "outputs": [],
   "source": []
  }
 ],
 "metadata": {
  "interpreter": {
   "hash": "25d3e8cab3df6679576e97e6212eaea2dd02131b40b27e4506190ada6b04b773"
  },
  "kernelspec": {
   "display_name": "Python 3.8.10 ('venv': venv)",
   "language": "python",
   "name": "python3"
  },
  "language_info": {
   "codemirror_mode": {
    "name": "ipython",
    "version": 3
   },
   "file_extension": ".py",
   "mimetype": "text/x-python",
   "name": "python",
   "nbconvert_exporter": "python",
   "pygments_lexer": "ipython3",
   "version": "3.8.10"
  },
  "orig_nbformat": 4
 },
 "nbformat": 4,
 "nbformat_minor": 2
}
