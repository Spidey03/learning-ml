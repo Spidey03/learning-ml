{
 "cells": [
  {
   "cell_type": "code",
   "execution_count": 1,
   "metadata": {},
   "outputs": [],
   "source": [
    "import numpy as np\n",
    "import pandas as pd\n",
    "from sklearn.model_selection import train_test_split\n",
    "from sklearn.neighbors import KNeighborsClassifier\n",
    "from sklearn.metrics import (\n",
    "    accuracy_score,\n",
    "    f1_score,\n",
    "    confusion_matrix,\n",
    "    precision_score,\n",
    "    recall_score,\n",
    "    precision_recall_curve\n",
    ")\n"
   ]
  },
  {
   "cell_type": "markdown",
   "metadata": {},
   "source": [
    "### Read & Split Data"
   ]
  },
  {
   "cell_type": "code",
   "execution_count": 2,
   "metadata": {},
   "outputs": [
    {
     "name": "stdout",
     "output_type": "stream",
     "text": [
      "<bound method DataFrame.info of      Pregnancies  Glucose  BloodPressure  SkinThickness  Insulin   BMI  \\\n",
      "0              6      148             72             35        0  33.6   \n",
      "1              1       85             66             29        0  26.6   \n",
      "2              8      183             64              0        0  23.3   \n",
      "3              1       89             66             23       94  28.1   \n",
      "4              0      137             40             35      168  43.1   \n",
      "..           ...      ...            ...            ...      ...   ...   \n",
      "763           10      101             76             48      180  32.9   \n",
      "764            2      122             70             27        0  36.8   \n",
      "765            5      121             72             23      112  26.2   \n",
      "766            1      126             60              0        0  30.1   \n",
      "767            1       93             70             31        0  30.4   \n",
      "\n",
      "     DiabetesPedigreeFunction  Age  Outcome  \n",
      "0                       0.627   50        1  \n",
      "1                       0.351   31        0  \n",
      "2                       0.672   32        1  \n",
      "3                       0.167   21        0  \n",
      "4                       2.288   33        1  \n",
      "..                        ...  ...      ...  \n",
      "763                     0.171   63        0  \n",
      "764                     0.340   27        0  \n",
      "765                     0.245   30        0  \n",
      "766                     0.349   47        1  \n",
      "767                     0.315   23        0  \n",
      "\n",
      "[768 rows x 9 columns]>\n"
     ]
    }
   ],
   "source": [
    "data = pd.read_csv('..\\..\\..\\data\\diabetes\\diabetes.csv')\n",
    "print(data.info)\n",
    "y = data.pop('Outcome')\n",
    "\n",
    "X_train, X_test, y_train, y_test = train_test_split(\n",
    "    data.to_numpy(), y.to_numpy(), test_size=0.2, random_state=3\n",
    ")"
   ]
  },
  {
   "cell_type": "markdown",
   "metadata": {},
   "source": [
    "### Model"
   ]
  },
  {
   "cell_type": "code",
   "execution_count": 3,
   "metadata": {},
   "outputs": [
    {
     "data": {
      "text/plain": [
       "KNeighborsClassifier(n_neighbors=3)"
      ]
     },
     "execution_count": 3,
     "metadata": {},
     "output_type": "execute_result"
    }
   ],
   "source": [
    "model = KNeighborsClassifier(\n",
    "    n_neighbors=3,\n",
    "    metric=\"minkowski\"\n",
    ")\n",
    "model.fit(X_train, y_train)"
   ]
  },
  {
   "cell_type": "code",
   "execution_count": 4,
   "metadata": {},
   "outputs": [
    {
     "data": {
      "text/plain": [
       "0.6818181818181818"
      ]
     },
     "execution_count": 4,
     "metadata": {},
     "output_type": "execute_result"
    }
   ],
   "source": [
    "model.score(X_test,y_test)"
   ]
  },
  {
   "cell_type": "code",
   "execution_count": 5,
   "metadata": {},
   "outputs": [],
   "source": [
    "predictions = model.predict(X_test)"
   ]
  },
  {
   "cell_type": "code",
   "execution_count": 6,
   "metadata": {},
   "outputs": [
    {
     "data": {
      "text/plain": [
       "array([[75, 17],\n",
       "       [32, 30]], dtype=int64)"
      ]
     },
     "execution_count": 6,
     "metadata": {},
     "output_type": "execute_result"
    }
   ],
   "source": [
    "confusion_matrix(y_test,predictions)"
   ]
  },
  {
   "cell_type": "code",
   "execution_count": 7,
   "metadata": {},
   "outputs": [
    {
     "name": "stdout",
     "output_type": "stream",
     "text": [
      "Accuracy: 0.6818181818181818\n",
      "Precision: 0.6382978723404256\n",
      "Recall: 0.4838709677419355\n",
      "f1_score: 0.5504587155963303\n"
     ]
    }
   ],
   "source": [
    "def get_metrics(y, y_hat):\n",
    "    accuracy = accuracy_score(y, y_hat)\n",
    "    precision = precision_score(y, y_hat)\n",
    "    recall = recall_score(y, y_hat)\n",
    "    f1score = f1_score(y, y_hat)\n",
    "    print(f\"Accuracy: {accuracy}\\nPrecision: {precision}\\nRecall: {recall}\\nf1_score: {f1score}\")\n",
    "get_metrics(y_test,predictions)\n"
   ]
  },
  {
   "cell_type": "markdown",
   "metadata": {},
   "source": [
    "### Cross-Validation\n",
    "Evaluation estimator performance on unseen data. "
   ]
  },
  {
   "cell_type": "markdown",
   "metadata": {},
   "source": [
    "##### K-Fold Cross Validation  \n",
    "- The training set is split into k smaller sets.\n",
    "- A model is trained using k-1 of the folds as training data\n",
    "- The resulting model is validated on remaining part of the data as a Test set to mesure the performance (Accuracy)\n",
    "\n",
    "The performance measure reported by k-fold cv is then the average of the values computed in loop."
   ]
  },
  {
   "cell_type": "code",
   "execution_count": 8,
   "metadata": {},
   "outputs": [
    {
     "name": "stdout",
     "output_type": "stream",
     "text": [
      "[0.71544715 0.70731707 0.70731707 0.69105691 0.71311475]\n",
      "Mean of CV scores: 0.7068505930960949\n"
     ]
    }
   ],
   "source": [
    "from sklearn.model_selection import cross_val_score\n",
    "\n",
    "knn_cv = KNeighborsClassifier(\n",
    "    n_neighbors=3,\n",
    "    metric=\"minkowski\"\n",
    ")\n",
    "cv_scores = cross_val_score(\n",
    "    estimator=knn_cv,\n",
    "    X=X_train,\n",
    "    y=y_train,\n",
    "    cv=5\n",
    ")\n",
    "\n",
    "print(cv_scores)\n",
    "print(f'Mean of CV scores: {np.mean(cv_scores)}')"
   ]
  },
  {
   "cell_type": "markdown",
   "metadata": {},
   "source": [
    "### Grid Search CV"
   ]
  },
  {
   "cell_type": "markdown",
   "metadata": {},
   "source": [
    "Finding the optimal parameter values from give set of param grid  \n",
    "\n",
    "\n",
    "GridSearchCV works by training our model multiple times on a range of parameters that we specify. That way, we can test our model with each parameter and figure out the optimal values to get the best accuracy results."
   ]
  },
  {
   "cell_type": "code",
   "execution_count": 9,
   "metadata": {},
   "outputs": [],
   "source": [
    "from sklearn.model_selection import GridSearchCV\n",
    "\n",
    "knn_classifier = KNeighborsClassifier()\n",
    "param_grid = {'n_neighbors': np.arange(3, 20)}\n",
    "knn_gscv = GridSearchCV(\n",
    "    estimator=knn_classifier,\n",
    "    param_grid=param_grid,\n",
    "    cv=5\n",
    ")"
   ]
  },
  {
   "cell_type": "code",
   "execution_count": 10,
   "metadata": {},
   "outputs": [
    {
     "data": {
      "text/plain": [
       "GridSearchCV(cv=5, estimator=KNeighborsClassifier(),\n",
       "             param_grid={'n_neighbors': array([ 3,  4,  5,  6,  7,  8,  9, 10, 11, 12, 13, 14, 15, 16, 17, 18, 19])})"
      ]
     },
     "execution_count": 10,
     "metadata": {},
     "output_type": "execute_result"
    }
   ],
   "source": [
    "knn_gscv.fit(X_train, y_train)"
   ]
  },
  {
   "cell_type": "code",
   "execution_count": 11,
   "metadata": {},
   "outputs": [
    {
     "data": {
      "text/plain": [
       "KNeighborsClassifier(n_neighbors=12)"
      ]
     },
     "execution_count": 11,
     "metadata": {},
     "output_type": "execute_result"
    }
   ],
   "source": [
    "model = knn_gscv.best_estimator_\n",
    "model"
   ]
  },
  {
   "cell_type": "code",
   "execution_count": 12,
   "metadata": {},
   "outputs": [
    {
     "data": {
      "text/plain": [
       "0.7540317206450753"
      ]
     },
     "execution_count": 12,
     "metadata": {},
     "output_type": "execute_result"
    }
   ],
   "source": [
    "knn_gscv.best_score_"
   ]
  },
  {
   "cell_type": "code",
   "execution_count": 13,
   "metadata": {},
   "outputs": [
    {
     "data": {
      "text/plain": [
       "0.7077922077922078"
      ]
     },
     "execution_count": 13,
     "metadata": {},
     "output_type": "execute_result"
    }
   ],
   "source": [
    "model.score(X_test, y_test)"
   ]
  },
  {
   "cell_type": "code",
   "execution_count": 14,
   "metadata": {},
   "outputs": [
    {
     "name": "stdout",
     "output_type": "stream",
     "text": [
      "We can notice that 12 is the optimal value for n_neighbors, getting 0.7540317206450753\n"
     ]
    }
   ],
   "source": [
    "print(f\"We can notice that {model.n_neighbors} is the optimal value for n_neighbors, getting {knn_gscv.best_score_}\")"
   ]
  },
  {
   "cell_type": "markdown",
   "metadata": {},
   "source": [
    "#### Complete results\n",
    "\n"
   ]
  },
  {
   "cell_type": "code",
   "execution_count": 15,
   "metadata": {},
   "outputs": [
    {
     "data": {
      "text/plain": [
       "{'mean_fit_time': array([0.00091338, 0.00044127, 0.00019999, 0.00060315, 0.00070224,\n",
       "        0.00080128, 0.0005034 , 0.00043597, 0.00028062, 0.00090742,\n",
       "        0.00080442, 0.00010071, 0.00083923, 0.0010426 , 0.00050297,\n",
       "        0.00050268, 0.00103645]),\n",
       " 'std_fit_time': array([4.93963389e-04, 5.44385030e-04, 3.99971008e-04, 3.75074465e-04,\n",
       "        4.00506273e-04, 4.00653421e-04, 4.48798302e-04, 5.36980329e-04,\n",
       "        5.61237335e-04, 4.95846199e-04, 4.02218319e-04, 2.01416016e-04,\n",
       "        4.25522331e-04, 7.31824654e-05, 4.48369364e-04, 4.48790095e-04,\n",
       "        5.63792531e-04]),\n",
       " 'mean_score_time': array([0.00279713, 0.00261827, 0.0033288 , 0.00243697, 0.00264492,\n",
       "        0.00251231, 0.00270472, 0.00271692, 0.00317373, 0.00281405,\n",
       "        0.00304308, 0.00288553, 0.00308347, 0.00249538, 0.00293961,\n",
       "        0.00382042, 0.00274982]),\n",
       " 'std_score_time': array([0.00037738, 0.00042527, 0.00033839, 0.00033931, 0.00037732,\n",
       "        0.00030033, 0.00067629, 0.00068278, 0.00034636, 0.00060816,\n",
       "        0.00033519, 0.00050264, 0.00055317, 0.00038569, 0.00047824,\n",
       "        0.00069022, 0.0003461 ]),\n",
       " 'param_n_neighbors': masked_array(data=[3, 4, 5, 6, 7, 8, 9, 10, 11, 12, 13, 14, 15, 16, 17,\n",
       "                    18, 19],\n",
       "              mask=[False, False, False, False, False, False, False, False,\n",
       "                    False, False, False, False, False, False, False, False,\n",
       "                    False],\n",
       "        fill_value='?',\n",
       "             dtype=object),\n",
       " 'params': [{'n_neighbors': 3},\n",
       "  {'n_neighbors': 4},\n",
       "  {'n_neighbors': 5},\n",
       "  {'n_neighbors': 6},\n",
       "  {'n_neighbors': 7},\n",
       "  {'n_neighbors': 8},\n",
       "  {'n_neighbors': 9},\n",
       "  {'n_neighbors': 10},\n",
       "  {'n_neighbors': 11},\n",
       "  {'n_neighbors': 12},\n",
       "  {'n_neighbors': 13},\n",
       "  {'n_neighbors': 14},\n",
       "  {'n_neighbors': 15},\n",
       "  {'n_neighbors': 16},\n",
       "  {'n_neighbors': 17},\n",
       "  {'n_neighbors': 18},\n",
       "  {'n_neighbors': 19}],\n",
       " 'split0_test_score': array([0.71544715, 0.76422764, 0.7398374 , 0.7398374 , 0.74796748,\n",
       "        0.77235772, 0.79674797, 0.77235772, 0.75609756, 0.78861789,\n",
       "        0.78861789, 0.81300813, 0.82113821, 0.81300813, 0.82113821,\n",
       "        0.81300813, 0.80487805]),\n",
       " 'split1_test_score': array([0.70731707, 0.72357724, 0.71544715, 0.7398374 , 0.71544715,\n",
       "        0.73170732, 0.75609756, 0.76422764, 0.7804878 , 0.77235772,\n",
       "        0.76422764, 0.77235772, 0.78861789, 0.79674797, 0.78861789,\n",
       "        0.78861789, 0.78861789]),\n",
       " 'split2_test_score': array([0.70731707, 0.72357724, 0.72357724, 0.71544715, 0.72357724,\n",
       "        0.72357724, 0.71544715, 0.73170732, 0.70731707, 0.72357724,\n",
       "        0.70731707, 0.70731707, 0.69105691, 0.70731707, 0.72357724,\n",
       "        0.71544715, 0.71544715]),\n",
       " 'split3_test_score': array([0.69105691, 0.69918699, 0.70731707, 0.7398374 , 0.73170732,\n",
       "        0.74796748, 0.7398374 , 0.7398374 , 0.75609756, 0.75609756,\n",
       "        0.72357724, 0.73170732, 0.70731707, 0.72357724, 0.72357724,\n",
       "        0.71544715, 0.70731707]),\n",
       " 'split4_test_score': array([0.71311475, 0.73770492, 0.73770492, 0.75409836, 0.73770492,\n",
       "        0.72131148, 0.7295082 , 0.73770492, 0.74590164, 0.7295082 ,\n",
       "        0.7295082 , 0.72131148, 0.72131148, 0.70491803, 0.71311475,\n",
       "        0.7295082 , 0.73770492]),\n",
       " 'mean_test_score': array([0.70685059, 0.7296548 , 0.72477676, 0.73781154, 0.73128082,\n",
       "        0.73938425, 0.74752766, 0.749167  , 0.74918033, 0.75403172,\n",
       "        0.74264961, 0.74914034, 0.74588831, 0.74911369, 0.75400506,\n",
       "        0.7524057 , 0.75079302]),\n",
       " 'std_test_score': array([0.00852075, 0.02127086, 0.01254816, 0.01247188, 0.01122449,\n",
       "        0.01895439, 0.02796098, 0.01604926, 0.02382913, 0.02475961,\n",
       "        0.02954161, 0.03858933, 0.05017292, 0.04626845, 0.04296191,\n",
       "        0.04059591, 0.03915788]),\n",
       " 'rank_test_score': array([17, 15, 16, 13, 14, 12,  9,  6,  5,  1, 11,  7, 10,  8,  2,  3,  4])}"
      ]
     },
     "execution_count": 15,
     "metadata": {},
     "output_type": "execute_result"
    }
   ],
   "source": [
    "knn_gscv.cv_results_ "
   ]
  }
 ],
 "metadata": {
  "kernelspec": {
   "display_name": "venv",
   "language": "python",
   "name": "python3"
  },
  "language_info": {
   "codemirror_mode": {
    "name": "ipython",
    "version": 3
   },
   "file_extension": ".py",
   "mimetype": "text/x-python",
   "name": "python",
   "nbconvert_exporter": "python",
   "pygments_lexer": "ipython3",
   "version": "3.10.2"
  },
  "orig_nbformat": 4
 },
 "nbformat": 4,
 "nbformat_minor": 2
}
